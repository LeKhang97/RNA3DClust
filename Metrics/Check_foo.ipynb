{
 "cells": [
  {
   "cell_type": "code",
   "execution_count": 19,
   "id": "b20bea4f-c701-429c-95f1-a626b5cef31f",
   "metadata": {},
   "outputs": [],
   "source": [
    "from Metrics import *"
   ]
  },
  {
   "cell_type": "code",
   "execution_count": 16,
   "id": "cb88eb17-4c10-43df-a2a6-6b8f6c0cf42b",
   "metadata": {},
   "outputs": [],
   "source": [
    "length_seq = 200\n",
    "pred = [0]*80 + [1]*(length_seq - 80)\n",
    "truth = [0]*82 + [1]*(length_seq - 82)\n",
    "res = range(length_seq)"
   ]
  },
  {
   "cell_type": "code",
   "execution_count": 17,
   "id": "2238001b-dc2c-484e-9569-7d163475be38",
   "metadata": {},
   "outputs": [],
   "source": [
    "distance_mtx, lst_of_range_true, lst_of_range_pred = domain_distance_matrix([truth,pred],res)\n",
    "overlap_mtx, min_labels = domain_overlap_matrix([truth,pred],res) \n",
    "\n",
    "dbd_score = DBD(distance_mtx, lst_of_range_true, lst_of_range_pred, threshold=7)\n",
    "dcs_score = DCS(truth,pred)\n",
    "ndo_score = NDO(overlap_mtx,length_seq, min_labels)"
   ]
  },
  {
   "cell_type": "code",
   "execution_count": 18,
   "id": "5775787a-96e7-4d1c-9afd-c27f77e037f3",
   "metadata": {},
   "outputs": [
    {
     "name": "stdout",
     "output_type": "stream",
     "text": [
      "0.98 0.8571428571428571 1.0\n"
     ]
    }
   ],
   "source": [
    "print(ndo_score, dbd_score, dcs_score)"
   ]
  }
 ],
 "metadata": {
  "kernelspec": {
   "display_name": "Python 3 (ipykernel)",
   "language": "python",
   "name": "python3"
  },
  "language_info": {
   "codemirror_mode": {
    "name": "ipython",
    "version": 3
   },
   "file_extension": ".py",
   "mimetype": "text/x-python",
   "name": "python",
   "nbconvert_exporter": "python",
   "pygments_lexer": "ipython3",
   "version": "3.10.12"
  }
 },
 "nbformat": 4,
 "nbformat_minor": 5
}
