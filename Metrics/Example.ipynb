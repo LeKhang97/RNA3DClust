{
 "cells": [
  {
   "cell_type": "code",
   "execution_count": 1,
   "id": "b20bea4f-c701-429c-95f1-a626b5cef31f",
   "metadata": {},
   "outputs": [],
   "source": [
    "from Metrics import *"
   ]
  },
  {
   "cell_type": "code",
   "execution_count": 2,
   "id": "cb88eb17-4c10-43df-a2a6-6b8f6c0cf42b",
   "metadata": {},
   "outputs": [],
   "source": [
    "length_seq = 200\n",
    "pred = [0]*80 + [1]*(length_seq - 80)\n",
    "truth = [0]*82 + [1]*2 + [-1]*(length_seq - 82 - 2) \n",
    "res = range(length_seq)"
   ]
  },
  {
   "cell_type": "code",
   "execution_count": 6,
   "id": "2238001b-dc2c-484e-9569-7d163475be38",
   "metadata": {},
   "outputs": [
    {
     "name": "stdout",
     "output_type": "stream",
     "text": [
      "0.2619047619047619 0.9 0.95 1.0\n"
     ]
    }
   ],
   "source": [
    "# Calculate the NDO score\n",
    "overlap_mtx, min_labels = domain_overlap_matrix([truth,pred],res) \n",
    "ndo_score = NDO(overlap_mtx,length_seq, min_labels)\n",
    "\n",
    "# Calculate the DBD score\n",
    "distance_mtx = domain_distance_matrix([truth,pred],res)\n",
    "dbd_score = DBD(distance_mtx, threshold=20)\n",
    "\n",
    "# Calculate the SDD score\n",
    "distance_mtx = domain_distance_matrix2([truth,pred],res)\n",
    "sdd_score = DBD(distance_mtx, threshold=20)\n",
    "\n",
    "# Calculate the SDC score\n",
    "sdc_score = SDC(truth,pred)\n",
    "\n",
    "print(ndo_score, dbd_score, sdd_score, sdc_score)"
   ]
  }
 ],
 "metadata": {
  "kernelspec": {
   "display_name": "Python 3 (ipykernel)",
   "language": "python",
   "name": "python3"
  },
  "language_info": {
   "codemirror_mode": {
    "name": "ipython",
    "version": 3
   },
   "file_extension": ".py",
   "mimetype": "text/x-python",
   "name": "python",
   "nbconvert_exporter": "python",
   "pygments_lexer": "ipython3",
   "version": "3.10.12"
  }
 },
 "nbformat": 4,
 "nbformat_minor": 5
}
